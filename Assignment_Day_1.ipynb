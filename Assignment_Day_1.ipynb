{
 "cells": [
  {
   "cell_type": "markdown",
   "metadata": {},
   "source": [
    "# Assignment Day 1 Homework Solution\n",
    "Data Science 101 Course\n",
    "\n",
    "Name- DHIER N SHAH\n",
    "\n",
    "Email ID - dheirshah077@gmail.com"
   ]
  },
  {
   "cell_type": "markdown",
   "metadata": {},
   "source": [
    "# question 1\n",
    "\n",
    "-Given the following jumbled word, OBANWRI guess the correct English word."
   ]
  },
  {
   "cell_type": "markdown",
   "metadata": {},
   "source": [
    "Ans -B) RAINBOW"
   ]
  },
  {
   "cell_type": "markdown",
   "metadata": {},
   "source": [
    "# Question 2 :\n",
    "\n",
    "Write a program which prints “LETS UPGRADE”. (Please note that you have to print in ALL CAPS as given)"
   ]
  },
  {
   "cell_type": "code",
   "execution_count": 3,
   "metadata": {},
   "outputs": [
    {
     "name": "stdout",
     "output_type": "stream",
     "text": [
      "LETS UPGRADE\n"
     ]
    }
   ],
   "source": [
    "print(\"LETS UPGRADE\")"
   ]
  },
  {
   "cell_type": "markdown",
   "metadata": {},
   "source": [
    "# Questions 3:\n",
    "\n",
    "Write a program that takes cost price and selling price as input and displays whether the transaction is a Profit or a Loss or Neither.\n",
    "\n",
    "1.INPUT FORMAT\n",
    "\n",
    "2.The first line contains the cost price.\n",
    "\n",
    "3.The second line contains the selling price.\n",
    "\n",
    "4.OUTPUT FORMAT\n",
    "\n",
    "5.Print \"Profit\" if the transaction is a profit or \"Loss\" if it is a loss.\n",
    "\n",
    "6.If it is neither profit nor loss, print \"Neither\". (You must not have quotes in your output)"
   ]
  },
  {
   "cell_type": "code",
   "execution_count": 8,
   "metadata": {},
   "outputs": [
    {
     "name": "stdout",
     "output_type": "stream",
     "text": [
      " 19\n",
      " 95\n",
      "Profit\n"
     ]
    }
   ],
   "source": [
    "Cost_price = input(\" \")\n",
    "Selling_price = input(\" \")\n",
    "if (Cost_price < Selling_price):\n",
    "    print(\"Profit\")\n",
    "elif (Cost_price > Selling_price):\n",
    "    print(\"Loss\")\n",
    "else :\n",
    "    print(\"Neither\")\n",
    "  "
   ]
  },
  {
   "cell_type": "markdown",
   "metadata": {},
   "source": [
    "# Questions 4:\n",
    "1.Write a program that takes an amount in Euros as input. You need to find its equivalent in Rupees and display it. Assume 1 Euro equals Rs. 80.\n",
    "\n",
    "2.Please note that you are expected to stick to the given input and output format as in sample test cases.\n",
    "\n",
    "3.Please don't add any extra lines such as'Enter a number', etc.\n",
    "\n",
    "4.Your program should take only one number as input and display the output"
   ]
  },
  {
   "cell_type": "code",
   "execution_count": 13,
   "metadata": {},
   "outputs": [
    {
     "name": "stdout",
     "output_type": "stream",
     "text": [
      "7\n",
      "560\n"
     ]
    }
   ],
   "source": [
    "Euro=int(input(\"\"))\n",
    "Rupees = Euro*80\n",
    "print(Rupees)\n"
   ]
  }
 ],
 "metadata": {
  "kernelspec": {
   "display_name": "Python 3",
   "language": "python",
   "name": "python3"
  },
  "language_info": {
   "codemirror_mode": {
    "name": "ipython",
    "version": 3
   },
   "file_extension": ".py",
   "mimetype": "text/x-python",
   "name": "python",
   "nbconvert_exporter": "python",
   "pygments_lexer": "ipython3",
   "version": "3.8.3"
  }
 },
 "nbformat": 4,
 "nbformat_minor": 4
}
